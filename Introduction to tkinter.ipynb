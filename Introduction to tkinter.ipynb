{
 "cells": [
  {
   "cell_type": "code",
   "execution_count": 11,
   "metadata": {},
   "outputs": [],
   "source": [
    "import tkinter as tk\n",
    "\n",
    "def func1():\n",
    "    \n",
    "    label1.config(bg=\"green\",fg=\"white\",text=\"OK Pressed\")\n",
    "    \n",
    "def func2():\n",
    "    \n",
    "    label1.config(bg=\"red\",fg=\"white\",text=\"CANCEL Pressed\")\n",
    "\n",
    "window=tk.Tk()\n",
    "# main window\n",
    "\n",
    "button1=tk.Button(window,text=\"OK\",fg='white',bg='green',font='Helvetica 20',width=10,command=func1)\n",
    "button1.grid(row=0,column=0)\n",
    "\n",
    "button2=tk.Button(window,text=\"CANCEL\",fg='white',bg='red',font='Helvetica 20',width=10,command=func2)\n",
    "button2.grid(row=0,column=1)\n",
    "\n",
    "label1=tk.Label(window,text=\"HELLO TKINTER!\",bg='white',width=20,font='Helvetica 20 bold')\n",
    "label1.grid(row=1,column=0,columnspan=2)\n",
    "\n",
    "window.mainloop()\n",
    "#running the GUI"
   ]
  },
  {
   "cell_type": "code",
   "execution_count": null,
   "metadata": {},
   "outputs": [],
   "source": []
  }
 ],
 "metadata": {
  "kernelspec": {
   "display_name": "Python 3",
   "language": "python",
   "name": "python3"
  },
  "language_info": {
   "codemirror_mode": {
    "name": "ipython",
    "version": 3
   },
   "file_extension": ".py",
   "mimetype": "text/x-python",
   "name": "python",
   "nbconvert_exporter": "python",
   "pygments_lexer": "ipython3",
   "version": "3.7.4"
  }
 },
 "nbformat": 4,
 "nbformat_minor": 2
}
